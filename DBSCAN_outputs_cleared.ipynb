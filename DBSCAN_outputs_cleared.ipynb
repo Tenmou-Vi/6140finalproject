{
 "cells": [
  {
   "cell_type": "markdown",
   "metadata": {},
   "source": [
    "### 1. data preprocessing"
   ]
  },
  {
   "cell_type": "code",
   "execution_count": null,
   "metadata": {},
   "outputs": [],
   "source": [
    "from decimal import Decimal\n",
    "import os\n",
    "import json\n",
    "import pandas as pd\n",
    "\n",
    "def load_coordinates(folder_path):\n",
    "    all_rows = []\n",
    "    for filename in os.listdir(folder_path):\n",
    "        if filename.endswith(\".json\"):\n",
    "            file_path = os.path.join(folder_path, filename)\n",
    "            try:\n",
    "                with open(file_path, 'r', encoding='utf-8') as f:\n",
    "                    for line in f:\n",
    "                        try:\n",
    "                            entry = json.loads(line.strip())\n",
    "                            coords = entry.get(\"coordinates\")\n",
    "                            if coords and isinstance(coords, list) and len(coords) == 2:\n",
    "                                lon = Decimal(coords[0])\n",
    "                                lat = Decimal(coords[1])\n",
    "                                all_rows.append({\n",
    "                                    \"longitude\": lon,\n",
    "                                    \"latitude\": lat\n",
    "                                })\n",
    "                        except Exception as e:\n",
    "                            print(f\"Error parsing line in {filename}: {e}\")\n",
    "            except Exception as e:\n",
    "                print(f\"Error opening file {filename}: {e}\")\n",
    "    \n",
    "    return pd.DataFrame(all_rows)\n",
    "\n",
    "folder_path = \"/Users/yunchi/Downloads/text_coordinates_regions\"\n",
    "df = load_coordinates(folder_path)\n",
    "\n",
    "df"
   ]
  },
  {
   "cell_type": "code",
   "execution_count": null,
   "metadata": {},
   "outputs": [],
   "source": [
    "import folium\n",
    "\n",
    "map_center = [df[\"latitude\"].median(), df[\"longitude\"].median()]\n",
    "map = folium.Map(location=map_center, zoom_start=2, tiles='CartoDB positron')\n",
    "\n",
    "for _, row in df.iterrows():\n",
    "    folium.CircleMarker(\n",
    "        location=[row['latitude'], row['longitude']],\n",
    "        radius=1,\n",
    "        color='blue',\n",
    "        fill=True,\n",
    "        fill_opacity=0.6\n",
    "    ).add_to(map)\n",
    "\n",
    "# map.save('map.html')\n",
    "map"
   ]
  },
  {
   "cell_type": "code",
   "execution_count": null,
   "metadata": {},
   "outputs": [],
   "source": [
    "from folium.plugins import HeatMap\n",
    "\n",
    "heat_map = folium.Map(location=map_center, zoom_start=2)\n",
    "heat_data = [[row['latitude'], row['longitude']] for _, row in df.iterrows()]\n",
    "HeatMap(heat_data, radius=6, blur=5).add_to(heat_map)\n",
    "\n",
    "heat_map.save('heat_map.html')\n",
    "heat_map"
   ]
  },
  {
   "cell_type": "markdown",
   "metadata": {},
   "source": [
    "### 2. topological analysis: SoftMapper"
   ]
  },
  {
   "cell_type": "markdown",
   "metadata": {},
   "source": [
    "### 3. traditional clustering: DBSCAN"
   ]
  },
  {
   "cell_type": "code",
   "execution_count": null,
   "metadata": {},
   "outputs": [],
   "source": [
    "from sklearn.cluster import DBSCAN\n",
    "import numpy as np\n",
    "\n",
    "# convert coords to float to work with numpy\n",
    "df['latitude'] = df['latitude'].astype(float)\n",
    "df['longitude'] = df['longitude'].astype(float)\n",
    "\n",
    "# convert to radians (to be more realistic with distances)\n",
    "coords = np.radians(df[['latitude', 'longitude']].to_numpy())\n",
    "\n",
    "kms_per_radian = 6371.0088 # earth’s radius = 6371 km\n",
    "eps_km = 10 # group points that are within 10 kilometers of each other\n",
    "eps_rad = eps_km / kms_per_radian\n",
    "\n",
    "db = DBSCAN(eps=eps_rad, min_samples=10, metric='haversine').fit(coords) # haversine -> measures spherical distance (great for coordinates)\n",
    "df['cluster'] = db.labels_"
   ]
  },
  {
   "cell_type": "code",
   "execution_count": null,
   "metadata": {},
   "outputs": [],
   "source": [
    "coords"
   ]
  },
  {
   "cell_type": "code",
   "execution_count": null,
   "metadata": {},
   "outputs": [],
   "source": [
    "n_clusters = len(set(df['cluster'])) - (1 if -1 in df['cluster'].values else 0)\n",
    "print(f\"Number of clusters formed: {n_clusters}\")"
   ]
  },
  {
   "cell_type": "code",
   "execution_count": null,
   "metadata": {},
   "outputs": [],
   "source": [
    "import matplotlib as plt\n",
    "\n",
    "plt.figure(figsize=(12, 8))\n",
    "scatter = plt.scatter(\n",
    "    df['longitude'], \n",
    "    df['latitude'], \n",
    "    c=df['cluster'], \n",
    "    cmap='tab10', \n",
    "    s=5, \n",
    "    alpha=0.6\n",
    ")\n",
    "\n",
    "plt.xlabel('Longitude')\n",
    "plt.ylabel('Latitude')\n",
    "plt.title('DBSCAN Clustering of Geospatial Coordinates')\n",
    "plt.colorbar(scatter, label='Cluster Label')\n",
    "plt.grid(True)\n",
    "plt.tight_layout()\n",
    "plt.show()"
   ]
  }
 ],
 "metadata": {
  "kernelspec": {
   "display_name": "venv",
   "language": "python",
   "name": "python3"
  },
  "language_info": {
   "codemirror_mode": {
    "name": "ipython",
    "version": 3
   },
   "file_extension": ".py",
   "mimetype": "text/x-python",
   "name": "python",
   "nbconvert_exporter": "python",
   "pygments_lexer": "ipython3",
   "version": "3.9.6"
  }
 },
 "nbformat": 4,
 "nbformat_minor": 2
}
